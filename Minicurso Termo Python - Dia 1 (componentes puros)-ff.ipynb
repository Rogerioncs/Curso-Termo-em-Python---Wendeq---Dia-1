{
 "cells": [
  {
   "cell_type": "code",
   "execution_count": null,
   "id": "0925639a",
   "metadata": {
    "executionInfo": {
     "elapsed": 2362,
     "status": "ok",
     "timestamp": 1719337544993,
     "user": {
      "displayName": "Rogerio Navarro Correia de Siqueira rogerioncs",
      "userId": "06100431994335146469"
     },
     "user_tz": 180
    },
    "id": "0925639a"
   },
   "outputs": [],
   "source": [
    "import numpy as np\n",
    "import math as mt\n",
    "import matplotlib.pyplot as plt\n",
    "import sympy"
   ]
  },
  {
   "cell_type": "markdown",
   "id": "f0a494f0",
   "metadata": {
    "id": "f0a494f0"
   },
   "source": [
    "## 1. Isotermas de Peng - Robinson"
   ]
  },
  {
   "cell_type": "markdown",
   "id": "3fa86cd8",
   "metadata": {
    "id": "3fa86cd8"
   },
   "source": [
    "<p> Cálculo de isotermas de Van der Waals e Peng - Robinson empregando-se dados de temperatura crítica, pressão crítica e fatores acêntricos do Handbook de Engenharia Química do Perry para o etanol e água."
   ]
  },
  {
   "cell_type": "code",
   "execution_count": null,
   "id": "5c6d8b32",
   "metadata": {
    "executionInfo": {
     "elapsed": 5,
     "status": "ok",
     "timestamp": 1719337544993,
     "user": {
      "displayName": "Rogerio Navarro Correia de Siqueira rogerioncs",
      "userId": "06100431994335146469"
     },
     "user_tz": 180
    },
    "id": "5c6d8b32"
   },
   "outputs": [],
   "source": [
    "#dados de temperatura crítica e pressão crítica da água e etanol extraídos do Handbook do Perry\n",
    "tcpcwh2o=[647.3, 221.2E5, 0.344] #Tc em K, Pc em Pa\n",
    "tcpcwetoh=[513.92, 6.12E6, 0.643]"
   ]
  },
  {
   "cell_type": "code",
   "execution_count": null,
   "id": "9caf928b",
   "metadata": {
    "executionInfo": {
     "elapsed": 5,
     "status": "ok",
     "timestamp": 1719337544993,
     "user": {
      "displayName": "Rogerio Navarro Correia de Siqueira rogerioncs",
      "userId": "06100431994335146469"
     },
     "user_tz": 180
    },
    "id": "9caf928b"
   },
   "outputs": [],
   "source": [
    "#funções para o cálculo dos parâmetros atrativo e repulsivo do modelo de Peng - Robinson\n",
    "def calcabpr(t,tc,pc,w):\n",
    "    r=8.31451\n",
    "    b=0.0778*r*tc/pc #parâmetro repulsivo\n",
    "    ac=0.45724*((r*tc)**2)/pc\n",
    "    kw=0.37464+1.5422*w-0.26992*(w**2)\n",
    "    tr=t/tc #temperatura reduzida\n",
    "    alfa=(1+kw*(1-tr**0.5))**2\n",
    "    a=ac*alfa #parâmetro atrativo\n",
    "    return a,b"
   ]
  },
  {
   "cell_type": "code",
   "execution_count": null,
   "id": "39b4cf87",
   "metadata": {
    "executionInfo": {
     "elapsed": 5,
     "status": "ok",
     "timestamp": 1719337544994,
     "user": {
      "displayName": "Rogerio Navarro Correia de Siqueira rogerioncs",
      "userId": "06100431994335146469"
     },
     "user_tz": 180
    },
    "id": "39b4cf87"
   },
   "outputs": [],
   "source": [
    "#função para o cálculo de isotermas (T=cte) com o modelo de Peng - Robinson\n",
    "def calcisotpr(a,b,v,t):\n",
    "    r=8.314 #constante universal dos gases em J/mol.K\n",
    "    nv=len(v)\n",
    "    vpr=np.zeros(nv)\n",
    "    for j in range(nv):\n",
    "        vpr[j]=r*t/(v[j]-b)-a/(v[j]**2+2*b*v[j]-b**2)\n",
    "    return vpr"
   ]
  },
  {
   "cell_type": "code",
   "execution_count": null,
   "id": "d0560205",
   "metadata": {
    "executionInfo": {
     "elapsed": 5,
     "status": "ok",
     "timestamp": 1719337544994,
     "user": {
      "displayName": "Rogerio Navarro Correia de Siqueira rogerioncs",
      "userId": "06100431994335146469"
     },
     "user_tz": 180
    },
    "id": "d0560205"
   },
   "outputs": [],
   "source": [
    "#vetores para plots de isotermas\n",
    "n=400\n",
    "vh2o=np.linspace(2.5E-5,8E-4,n)\n",
    "vetoh=np.linspace(7.2E-5,1.5E-3,n)"
   ]
  },
  {
   "cell_type": "markdown",
   "id": "5380f932",
   "metadata": {
    "id": "5380f932"
   },
   "source": [
    "### Isoterma de PR para a água"
   ]
  },
  {
   "cell_type": "code",
   "execution_count": null,
   "id": "21abcdbd",
   "metadata": {
    "executionInfo": {
     "elapsed": 5,
     "status": "ok",
     "timestamp": 1719337544994,
     "user": {
      "displayName": "Rogerio Navarro Correia de Siqueira rogerioncs",
      "userId": "06100431994335146469"
     },
     "user_tz": 180
    },
    "id": "21abcdbd"
   },
   "outputs": [],
   "source": [
    "tc=tcpcwh2o[0]\n",
    "pc=tcpcwh2o[1]\n",
    "w=tcpcwh2o[2]\n",
    "t=600\n",
    "a,b=calcabpr(t,tc,pc,w) #cálculo de a e b do modelo de Peng - Robinson"
   ]
  },
  {
   "cell_type": "code",
   "execution_count": null,
   "id": "fa52f8cf",
   "metadata": {
    "executionInfo": {
     "elapsed": 4,
     "status": "ok",
     "timestamp": 1719337544994,
     "user": {
      "displayName": "Rogerio Navarro Correia de Siqueira rogerioncs",
      "userId": "06100431994335146469"
     },
     "user_tz": 180
    },
    "id": "fa52f8cf"
   },
   "outputs": [],
   "source": [
    "vpprh2o=calcisotpr(a,b,vh2o,t)"
   ]
  },
  {
   "cell_type": "code",
   "execution_count": null,
   "id": "e44a14f0",
   "metadata": {
    "colab": {
     "base_uri": "https://localhost:8080/",
     "height": 592
    },
    "executionInfo": {
     "elapsed": 5801,
     "status": "ok",
     "timestamp": 1719337550791,
     "user": {
      "displayName": "Rogerio Navarro Correia de Siqueira rogerioncs",
      "userId": "06100431994335146469"
     },
     "user_tz": 180
    },
    "id": "e44a14f0",
    "outputId": "bd7f68e8-9f34-40d9-8495-f62e8215e0e9"
   },
   "outputs": [],
   "source": [
    "#Plot da isoterma de PR para a água\n",
    "plt.figure(figsize=(8,6))\n",
    "plt.plot(vh2o,vpprh2o,color=\"blue\", linewidth=2)\n",
    "plt.xlabel('v($m^{3}$/mol)',fontsize=20)\n",
    "plt.ylabel('P(Pa)',fontsize=20)\n",
    "plt.xlim([0,5E-4])\n",
    "plt.ylim([0,2E7])\n",
    "plt.title('Isoterma de PR para a água', fontsize = 20)\n",
    "plt.rcParams.update({'font.size':15})\n",
    "plt.grid(True, color='k', linestyle=':')\n",
    "plt.tight_layout()\n",
    "plt.savefig('isoth2o.png',dpi=600)\n",
    "plt.show()"
   ]
  },
  {
   "cell_type": "markdown",
   "id": "7417f87d",
   "metadata": {
    "id": "7417f87d"
   },
   "source": [
    "### Isoterma de PR para o Etanol"
   ]
  },
  {
   "cell_type": "code",
   "execution_count": null,
   "id": "721ca7b2",
   "metadata": {
    "executionInfo": {
     "elapsed": 5,
     "status": "ok",
     "timestamp": 1719337550791,
     "user": {
      "displayName": "Rogerio Navarro Correia de Siqueira rogerioncs",
      "userId": "06100431994335146469"
     },
     "user_tz": 180
    },
    "id": "721ca7b2"
   },
   "outputs": [],
   "source": [
    "tc=tcpcwetoh[0]\n",
    "pc=tcpcwetoh[1]\n",
    "t=500 #temperatura de interesse em K\n",
    "w=tcpcwetoh[2]\n",
    "a,b=calcabpr(t,tc,pc,w)"
   ]
  },
  {
   "cell_type": "code",
   "execution_count": null,
   "id": "3e24768c",
   "metadata": {
    "executionInfo": {
     "elapsed": 5,
     "status": "ok",
     "timestamp": 1719337550791,
     "user": {
      "displayName": "Rogerio Navarro Correia de Siqueira rogerioncs",
      "userId": "06100431994335146469"
     },
     "user_tz": 180
    },
    "id": "3e24768c"
   },
   "outputs": [],
   "source": [
    "vppretoh=calcisotpr(a,b,vetoh,t)"
   ]
  },
  {
   "cell_type": "code",
   "execution_count": null,
   "id": "3fb049fb",
   "metadata": {
    "colab": {
     "base_uri": "https://localhost:8080/",
     "height": 592
    },
    "executionInfo": {
     "elapsed": 3976,
     "status": "ok",
     "timestamp": 1719337554763,
     "user": {
      "displayName": "Rogerio Navarro Correia de Siqueira rogerioncs",
      "userId": "06100431994335146469"
     },
     "user_tz": 180
    },
    "id": "3fb049fb",
    "outputId": "eec669f7-3ef9-48ce-e8e2-18cdd1ed62d2"
   },
   "outputs": [],
   "source": [
    "#Plot da isoterma de PR para a água\n",
    "plt.figure(figsize=(8,6))\n",
    "plt.plot(vetoh,vppretoh,color=\"green\", linewidth=1.5)\n",
    "plt.xlabel('v($m^{3}$/mol)',fontsize=20)\n",
    "plt.ylabel('P(Pa)',fontsize=20)\n",
    "plt.xlim([0,9E-4])\n",
    "plt.ylim([0.25E7,1E7])\n",
    "plt.title('Isoterma de PR para o etanol', fontsize = 14)\n",
    "plt.rcParams.update({'font.size':15})\n",
    "plt.grid(True, color='k', linestyle=':')\n",
    "plt.tight_layout()\n",
    "plt.savefig('isoth2o.png',dpi=600)\n",
    "plt.show()"
   ]
  },
  {
   "cell_type": "markdown",
   "id": "dbc9a85e",
   "metadata": {
    "id": "dbc9a85e"
   },
   "source": [
    "# 2. Modelagem de $P^{sat}$ via Peng - Robinson"
   ]
  },
  {
   "cell_type": "markdown",
   "id": "b6d35e18",
   "metadata": {
    "id": "b6d35e18"
   },
   "source": [
    "<p> Cálculo de $P^{sat}$ como função da temperatura para substâncias puras diversas empregando-se os modelos de Antoine e Peng - Robinson.<p>\n",
    "    \n",
    ">- (1) Acetona\n",
    ">- (2) Benzeno\n",
    ">- (3) Ciclohexano\n",
    ">- (4) Etanol\n",
    ">- (5) Éter Dietílico\n",
    ">- (6) Metanol\n",
    "    \n",
    "<p>Os parâmetros de Antoine foram extraídos da base de dados do NIST (https://webbook.nist.gov/chemistry/). Os valores de temperatura crítica ($T_{c}$) e pressão crítica ($P_{c}$) e fatores acêntricos dos componentes puros foram extraídos do Handbook de Engenharia Química do Perry. Os valores dos parâmetro da função alfa de Almeida e Tellez foram ajustados mediante emprego dos dados experimentais de pressãp de saturação para cada componente, os quais foram extraídos da base de dados do DDBST (https://www.ddbst.com/). <p>"
   ]
  },
  {
   "cell_type": "markdown",
   "id": "38079814",
   "metadata": {
    "id": "38079814"
   },
   "source": [
    "### Funções para a extração de dados de arquivos txt para listas de dados"
   ]
  },
  {
   "cell_type": "code",
   "execution_count": null,
   "id": "f1fd6427",
   "metadata": {
    "executionInfo": {
     "elapsed": 8,
     "status": "ok",
     "timestamp": 1719337554764,
     "user": {
      "displayName": "Rogerio Navarro Correia de Siqueira rogerioncs",
      "userId": "06100431994335146469"
     },
     "user_tz": 180
    },
    "id": "f1fd6427"
   },
   "outputs": [],
   "source": [
    "def CarMat(nome):    #Função para carregar uma matriz em txt\n",
    "    mat = []\n",
    "    with open(nome) as archivo:\n",
    "        for linea in archivo:\n",
    "            A = linea.split( )\n",
    "            mat.append(A)\n",
    "    mat = np.array(mat,dtype=object)\n",
    "    return mat\n",
    "\n",
    "def StrAFloatList(list):        #para transformar uma lista com strigns a uma lista de floats\n",
    "    C = list\n",
    "    B = []\n",
    "    for i in range(0,len(list)):\n",
    "        A = float(list[i])\n",
    "        B.append(A)\n",
    "    return B\n",
    "\n",
    "def strAFloatMat(mat):          #para transformar uma matriz com strigns a uma matriz de floats\n",
    "    C = mat\n",
    "    B = []\n",
    "    for i in range(0,len(C[:,0])):\n",
    "        A = StrAFloatList(C[i,:])\n",
    "        B.append(A)\n",
    "    return np.array(B)"
   ]
  },
  {
   "cell_type": "markdown",
   "id": "1f1b12b2",
   "metadata": {
    "id": "1f1b12b2"
   },
   "source": [
    "### Modelos de Peng - Robinson e Antoine"
   ]
  },
  {
   "cell_type": "code",
   "execution_count": null,
   "id": "fcab1100",
   "metadata": {
    "executionInfo": {
     "elapsed": 8,
     "status": "ok",
     "timestamp": 1719337554764,
     "user": {
      "displayName": "Rogerio Navarro Correia de Siqueira rogerioncs",
      "userId": "06100431994335146469"
     },
     "user_tz": 180
    },
    "id": "fcab1100"
   },
   "outputs": [],
   "source": [
    "#Equação de estado de Peng - Robinson\n",
    "def calcabpr3(t,tc,pc,w,model,palfa):\n",
    "    r     = 8.314\n",
    "    ac    = 0.45724*((r*tc)**2)/pc\n",
    "    b     = 0.0778*r*tc/pc\n",
    "    tr    = t/tc\n",
    "    if (model == 'almeida'): #Função de Almeida e Tellez\n",
    "        alfat = np.exp(palfa[0]*(1-tr)*(abs(1-tr)**(palfa[1]-1))+palfa[2]*(1/tr-1))\n",
    "    elif (model == 'classico'):\n",
    "        kw = 0.37464 + 1.54226*w - 0.26992*w**2\n",
    "        alfat = (1+kw*(1-tr**0.5))**2\n",
    "    elif (model == 'coquelett'): \n",
    "        c1=1.3569*(w**2)+0.9957*w+0.4077;\n",
    "        c2=-11.298*(w**2)+3.559*w-0.1146;\n",
    "        c3=11.7801*(w**2)-3.8901*w+0.5033;\n",
    "        if (t<tc):\n",
    "            alfat=np.exp(c1*(1-tr))*(((1+c2*(1-tr**0.5)**2+c3*(1-tr**0.5)**3))**2);\n",
    "        else:\n",
    "            alfat=np.exp(c1*(1-tr));\n",
    "    a = ac*alfat\n",
    "    return a,b"
   ]
  },
  {
   "cell_type": "code",
   "execution_count": null,
   "id": "4b17a877",
   "metadata": {
    "executionInfo": {
     "elapsed": 7,
     "status": "ok",
     "timestamp": 1719337554764,
     "user": {
      "displayName": "Rogerio Navarro Correia de Siqueira rogerioncs",
      "userId": "06100431994335146469"
     },
     "user_tz": 180
    },
    "id": "4b17a877"
   },
   "outputs": [],
   "source": [
    "def calcpsatantoine(pa,t):\n",
    "    a = pa[0]\n",
    "    b = pa[1]\n",
    "    c = pa[2]\n",
    "    psat  = 10**(a-b/(t+c))\n",
    "    psata = psat*1E5\n",
    "    return psata"
   ]
  },
  {
   "cell_type": "markdown",
   "id": "e8bd6e80",
   "metadata": {
    "id": "e8bd6e80"
   },
   "source": [
    "### Rotina para cálculo de $P^{sat}$"
   ]
  },
  {
   "cell_type": "code",
   "execution_count": null,
   "id": "807f32ee",
   "metadata": {
    "executionInfo": {
     "elapsed": 7,
     "status": "ok",
     "timestamp": 1719337554764,
     "user": {
      "displayName": "Rogerio Navarro Correia de Siqueira rogerioncs",
      "userId": "06100431994335146469"
     },
     "user_tz": 180
    },
    "id": "807f32ee"
   },
   "outputs": [],
   "source": [
    "#Rotina para cálculo da pressão de saturação do Sandler\n",
    "def calculaelvfipr(t,a,b,chute0):\n",
    "    [zl,zv,A,B] = resolveeospr2(a,b,t,chute0)\n",
    "    [fiv,fil]   = calcfipr2(A,B,zl,zv)\n",
    "    r   = 8.31451\n",
    "    rfi = fiv/fil\n",
    "    dfi = 1-rfi\n",
    "    tol = 1e-5 #tolerância\n",
    "    while np.any(abs(dfi)>=tol):\n",
    "        chute1 = chute0/rfi\n",
    "        [zl,zv,A,B] = resolveeospr2(a,b,t,chute1)\n",
    "        [fiv,fil]   = calcfipr2(A,B,zl,zv)\n",
    "        rfi = fiv/fil\n",
    "        dfi = 1-rfi\n",
    "        chute0 = chute1\n",
    "    plv = chute0\n",
    "    return plv"
   ]
  },
  {
   "cell_type": "code",
   "execution_count": null,
   "id": "37c36344",
   "metadata": {
    "executionInfo": {
     "elapsed": 7,
     "status": "ok",
     "timestamp": 1719337554764,
     "user": {
      "displayName": "Rogerio Navarro Correia de Siqueira rogerioncs",
      "userId": "06100431994335146469"
     },
     "user_tz": 180
    },
    "id": "37c36344"
   },
   "outputs": [],
   "source": [
    "#Coeficientes de fugacidade a partir do modelo de Peng - Robinson\n",
    "def calcfipr2(A,B,zl,zv):\n",
    "    fil = np.exp(zl-1-np.log(zl-B) + (A/(B*(2**1.5)))*np.log((zl+B*(1-2**0.5))/(zl+B*(1+2**0.5))))\n",
    "    fiv = np.exp(zv-1-np.log(zv-B) + (A/(B*(2**1.5)))*np.log((zv+B*(1-2**0.5))/(zv+B*(1+2**0.5))))\n",
    "    return fiv,fil"
   ]
  },
  {
   "cell_type": "code",
   "execution_count": null,
   "id": "db5c5697",
   "metadata": {
    "executionInfo": {
     "elapsed": 480,
     "status": "ok",
     "timestamp": 1719337555238,
     "user": {
      "displayName": "Rogerio Navarro Correia de Siqueira rogerioncs",
      "userId": "06100431994335146469"
     },
     "user_tz": 180
    },
    "id": "db5c5697"
   },
   "outputs": [],
   "source": [
    "#Função para resolver a forma cúbica de Peng - Robinson\n",
    "def resolveeospr2(a, b, t, chute):\n",
    "    r    = 8.31451\n",
    "    A    = a * chute / ((r * t) ** 2)\n",
    "    B    = b * chute / (r * t)\n",
    "    alfa = B - 1\n",
    "    beta = A - 3 * (B ** 2) - 2 * B\n",
    "    gama =-A * B + B ** 2 + B ** 3\n",
    "    p=[1,alfa,beta,gama]\n",
    "    vz=np.roots(p)\n",
    "    zl=np.real(min(vz))\n",
    "    zv=np.real(max(vz))\n",
    "    return zl, zv, A, B"
   ]
  },
  {
   "cell_type": "code",
   "execution_count": null,
   "id": "c80cf839",
   "metadata": {
    "executionInfo": {
     "elapsed": 6,
     "status": "ok",
     "timestamp": 1719337555239,
     "user": {
      "displayName": "Rogerio Navarro Correia de Siqueira rogerioncs",
      "userId": "06100431994335146469"
     },
     "user_tz": 180
    },
    "id": "c80cf839"
   },
   "outputs": [],
   "source": [
    "#Função para o cálculo de Psat em dada T via modelos de Antoine e PR\n",
    "#Pressão de Antoine gera o primeiro chute para Psat\n",
    "def calcPressãoPRvsAn(T, tc, pc, w, lambdaA, paA):\n",
    "    tcalc   = T\n",
    "    #apr     = calcabpr3(tcalc, tc, pc, w, 'classico', lambdaA)[0]\n",
    "    #bpr     = calcabpr3(tcalc, tc, pc, w, 'classico', lambdaA)[1]\n",
    "    apr     = calcabpr3(tcalc, tc, pc, w, 'almeida', lambdaA)[0]\n",
    "    bpr     = calcabpr3(tcalc, tc, pc, w, 'almeida', lambdaA)[1]\n",
    "    #apr     = calcabpr3(tcalc, tc, pc, w, 'coquelett', lambdaA)[0]\n",
    "    #bpr     = calcabpr3(tcalc, tc, pc, w, 'coquelett', lambdaA)[1]\n",
    "    psatA   = calcpsatantoine(paA, tcalc)\n",
    "    chutepr = psatA\n",
    "    psatPR  = calculaelvfipr(tcalc, apr, bpr, chutepr)\n",
    "    return tcalc, psatA, psatPR"
   ]
  },
  {
   "cell_type": "markdown",
   "id": "c69071dc",
   "metadata": {
    "id": "c69071dc"
   },
   "source": [
    "### Carregando dados de componentes puros"
   ]
  },
  {
   "cell_type": "code",
   "execution_count": null,
   "id": "2812a726",
   "metadata": {
    "colab": {
     "base_uri": "https://localhost:8080/",
     "height": 332
    },
    "executionInfo": {
     "elapsed": 6,
     "status": "error",
     "timestamp": 1719337555239,
     "user": {
      "displayName": "Rogerio Navarro Correia de Siqueira rogerioncs",
      "userId": "06100431994335146469"
     },
     "user_tz": 180
    },
    "id": "2812a726",
    "outputId": "ea83770b-86ed-41c6-a2e8-68e90b07d1a7"
   },
   "outputs": [],
   "source": [
    "vTcPcw       = CarMat(\"TcPcw.txt\")\n",
    "Antoine      = CarMat(\"Antoine.txt\")\n",
    "Lambda       = CarMat(\"Lambdas.txt\")\n",
    "PsatAcetona  = CarMat(\"Psat-Acetona.txt\")\n",
    "PsatBenzeno  = CarMat(\"Psat-Benzeno.txt\")\n",
    "PsatCicloHex = CarMat(\"Psat-CicloHexano.txt\")\n",
    "PsatEtanol   = CarMat(\"Psat-Etanol.txt\")\n",
    "PsatEterDiet = CarMat(\"Psat-EterDietilico.txt\")\n",
    "PsatMetanol  = CarMat(\"Psat-Metanol.txt\")"
   ]
  },
  {
   "cell_type": "markdown",
   "id": "4fae8983",
   "metadata": {
    "id": "4fae8983"
   },
   "source": [
    "#### Modelagem de Psat para a Acetona"
   ]
  },
  {
   "cell_type": "code",
   "execution_count": null,
   "id": "0755a865",
   "metadata": {
    "executionInfo": {
     "elapsed": 4,
     "status": "aborted",
     "timestamp": 1719337555239,
     "user": {
      "displayName": "Rogerio Navarro Correia de Siqueira rogerioncs",
      "userId": "06100431994335146469"
     },
     "user_tz": 180
    },
    "id": "0755a865"
   },
   "outputs": [],
   "source": [
    "#Extraindo parâmetros das listas de dados para a acetona\n",
    "pexp1 = StrAFloatList(PsatAcetona[:,1])\n",
    "pexp1 = [x * 1000 for x in pexp1]\n",
    "\n",
    "texp1 = StrAFloatList(PsatAcetona[:,0])\n",
    "\n",
    "nexp1 = len(texp1)\n",
    "\n",
    "tmin1 = float(PsatAcetona[0][0])\n",
    "tmax1 = float(PsatAcetona[nexp1-1][0])\n",
    "\n",
    "paA1  = StrAFloatList(Antoine[1][0:3])\n",
    "Lambda1 = StrAFloatList(Lambda[1][0:3])\n",
    "vTcPcw1 = StrAFloatList(vTcPcw[1][0:3])"
   ]
  },
  {
   "cell_type": "code",
   "execution_count": null,
   "id": "c83f7c29",
   "metadata": {
    "executionInfo": {
     "elapsed": 5,
     "status": "aborted",
     "timestamp": 1719337555240,
     "user": {
      "displayName": "Rogerio Navarro Correia de Siqueira rogerioncs",
      "userId": "06100431994335146469"
     },
     "user_tz": 180
    },
    "id": "c83f7c29"
   },
   "outputs": [],
   "source": [
    "#Cálculo e Plot dos dados de Psat para a acetona\n",
    "n = 200\n",
    "tcalc1  = np.linspace(tmin1,tmax1,n)\n",
    "psatA1  = np.zeros(n)\n",
    "psatPR1 = np.zeros(n)\n",
    "\n",
    "t=303.15\n",
    "tcalc,psatA,psatPR = calcPressãoPRvsAn(t,vTcPcw1[0],vTcPcw1[1],vTcPcw1[2],Lambda1,paA1)\n",
    "print(psatPR)\n",
    "\n",
    "for i in range(n):\n",
    "    tcalc1[i],psatA1[i],psatPR1[i] = calcPressãoPRvsAn(tcalc1[i],vTcPcw1[0],vTcPcw1[1],vTcPcw1[2],Lambda1,paA1)\n",
    "\n",
    "plt.figure(figsize=(8,6))\n",
    "plt.plot(tcalc1,psatA1,color=\"blue\", linewidth=1, label = 'Antoine')\n",
    "plt.plot(tcalc1,psatPR1,color=\"red\", linewidth=1, label = 'PR')\n",
    "plt.plot(texp1,pexp1,color=\"green\", marker = \"*\", linewidth=0)\n",
    "plt.xlabel('T(K)',fontsize=20)\n",
    "plt.ylabel('$P^{sat}$ ',fontsize=20)\n",
    "plt.title('$P^{sat}$ da Acetona via Antoine e Peng - Robinson', fontsize = 14)\n",
    "plt.rcParams.update({'font.size':15})\n",
    "plt.legend()\n",
    "plt.grid(True, color='k', linestyle=':')\n",
    "plt.tight_layout()\n",
    "plt.savefig('Pressão Sat Acetona.png',dpi=600)\n",
    "plt.show()"
   ]
  },
  {
   "cell_type": "code",
   "execution_count": null,
   "id": "cbaa5f77",
   "metadata": {
    "executionInfo": {
     "elapsed": 5,
     "status": "aborted",
     "timestamp": 1719337555240,
     "user": {
      "displayName": "Rogerio Navarro Correia de Siqueira rogerioncs",
      "userId": "06100431994335146469"
     },
     "user_tz": 180
    },
    "id": "cbaa5f77"
   },
   "outputs": [],
   "source": [
    "#Cálculo do desvio relativo absoluto médio\n",
    "nexp1=len(texp1)\n",
    "\n",
    "vpexp1=[float(x) for x in pexp1] #transformando lista em float\n",
    "\n",
    "erropsatA1  = np.zeros(nexp1)\n",
    "erropsatPR1 = np.zeros(nexp1)\n",
    "\n",
    "erromedioPR=0;\n",
    "erromedioA=0;\n",
    "\n",
    "for i in range(nexp1):\n",
    "    tcalc,psatA,psatPR = calcPressãoPRvsAn(texp1[i],vTcPcw1[0],vTcPcw1[1],vTcPcw1[2],Lambda1,paA1)\n",
    "    erropsatA1[i]=abs(vpexp1[i]-psatA)/vpexp1[i]\n",
    "    erropsatPR1[i]=abs(psatPR-vpexp1[i])/vpexp1[i]\n",
    "    erromedioPR=erromedioPR+erropsatPR1[i]\n",
    "    erromedioA=erromedioA+erropsatA1[i]\n",
    "\n",
    "erromedioPR=erromedioPR/nexp1\n",
    "erromedioA=erromedioA/nexp1\n",
    "\n",
    "print('erro medio Peng - Robinson (%)=',erromedioPR)\n",
    "print('erro medio Antoine (%)=',erromedioA)"
   ]
  },
  {
   "cell_type": "code",
   "execution_count": null,
   "id": "3ae68e75",
   "metadata": {
    "executionInfo": {
     "elapsed": 5,
     "status": "aborted",
     "timestamp": 1719337555240,
     "user": {
      "displayName": "Rogerio Navarro Correia de Siqueira rogerioncs",
      "userId": "06100431994335146469"
     },
     "user_tz": 180
    },
    "id": "3ae68e75"
   },
   "outputs": [],
   "source": [
    "#comportamento em baixas temperaturas\n",
    "plt.figure(figsize=(8,6))\n",
    "plt.plot(tcalc1,psatA1,color=\"blue\", linewidth=1, label = 'Antoine')\n",
    "plt.plot(tcalc1,psatPR1,color=\"red\", linewidth=1, label = 'PR')\n",
    "plt.plot(texp1,pexp1,color=\"green\", marker = \"*\", linewidth=0)\n",
    "plt.xlabel('T(K)',fontsize=20)\n",
    "plt.ylabel('$P^{sat}$',fontsize=20)\n",
    "plt.ylim([0,10000])\n",
    "plt.xlim([200,300])\n",
    "plt.title('$P^{sat}$ da Acetona via Antoine e Peng - Robinson', fontsize = 14)\n",
    "plt.rcParams.update({'font.size':15})\n",
    "plt.legend()\n",
    "plt.grid(True, color='k', linestyle=':')\n",
    "plt.tight_layout()\n",
    "plt.savefig('Pressão Sat Acetona - baixa T.png',dpi=600)\n",
    "plt.show()"
   ]
  },
  {
   "cell_type": "code",
   "execution_count": null,
   "id": "4b3aac0b",
   "metadata": {
    "executionInfo": {
     "elapsed": 14860,
     "status": "aborted",
     "timestamp": 1719337555241,
     "user": {
      "displayName": "Rogerio Navarro Correia de Siqueira rogerioncs",
      "userId": "06100431994335146469"
     },
     "user_tz": 180
    },
    "id": "4b3aac0b"
   },
   "outputs": [],
   "source": [
    "#comportamento em temperaturas elevadas\n",
    "plt.figure(figsize=(8,6))\n",
    "plt.plot(tcalc1,psatA1,color=\"blue\", linewidth=1, label = 'Antoine')\n",
    "plt.plot(tcalc1,psatPR1,color=\"red\", linewidth=1, label = 'PR')\n",
    "plt.plot(texp1,pexp1,color=\"green\", marker = \"*\", linewidth=0)\n",
    "plt.xlabel('t(K)',fontsize=20)\n",
    "plt.ylabel('$P^{sat}$',fontsize=20)\n",
    "plt.ylim([20000,140000])\n",
    "plt.xlim([300,340])\n",
    "plt.title('$P^{sat}$ da Acetona via Antoine e Peng - Robinson', fontsize = 14)\n",
    "plt.rcParams.update({'font.size':15})\n",
    "plt.legend()\n",
    "plt.grid(True, color='k', linestyle=':')\n",
    "plt.tight_layout()\n",
    "plt.savefig('Pressão saturação Acetona - T alta.png',dpi=600)\n",
    "plt.show()"
   ]
  },
  {
   "cell_type": "markdown",
   "id": "f1b2fe15",
   "metadata": {
    "id": "f1b2fe15"
   },
   "source": [
    "### Modelagem de Psat para o benzeno"
   ]
  },
  {
   "cell_type": "code",
   "execution_count": null,
   "id": "8e85d9d4",
   "metadata": {
    "executionInfo": {
     "elapsed": 14860,
     "status": "aborted",
     "timestamp": 1719337555242,
     "user": {
      "displayName": "Rogerio Navarro Correia de Siqueira rogerioncs",
      "userId": "06100431994335146469"
     },
     "user_tz": 180
    },
    "id": "8e85d9d4"
   },
   "outputs": [],
   "source": [
    "#Extraindo parâmetros das listas de dados para o Benzeno\n",
    "pexp2 = StrAFloatList(PsatBenzeno[:,1])\n",
    "pexp2 = [x * 1000 for x in pexp2]\n",
    "\n",
    "texp2 = StrAFloatList(PsatBenzeno[:,0])\n",
    "\n",
    "nexp2 = len(texp2)\n",
    "\n",
    "tmin2 = float(PsatBenzeno[0][0])\n",
    "tmax2 = float(PsatBenzeno[nexp2-1][0])\n",
    "\n",
    "paA2  = StrAFloatList(Antoine[2][0:3])\n",
    "Lambda2 = StrAFloatList(Lambda[2][0:3])\n",
    "vTcPcw2 = StrAFloatList(vTcPcw[2][0:3])"
   ]
  },
  {
   "cell_type": "code",
   "execution_count": null,
   "id": "93cc062d",
   "metadata": {
    "executionInfo": {
     "elapsed": 1,
     "status": "aborted",
     "timestamp": 1719337555651,
     "user": {
      "displayName": "Rogerio Navarro Correia de Siqueira rogerioncs",
      "userId": "06100431994335146469"
     },
     "user_tz": 180
    },
    "id": "93cc062d"
   },
   "outputs": [],
   "source": [
    "#Cálculo de Psat e plot para o benzeno\n",
    "n = 200\n",
    "tcalc2  = np.linspace(tmin2,tmax2,n)\n",
    "psatA2  = np.zeros(n)\n",
    "psatPR2 = np.zeros(n)\n",
    "for i in range(n):\n",
    "    tcalc2[i],psatA2[i],psatPR2[i] = calcPressãoPRvsAn(tcalc2[i],vTcPcw2[0],vTcPcw2[1],vTcPcw2[2],Lambda2,paA2)\n",
    "\n",
    "plt.figure(figsize=(8,6))\n",
    "plt.plot(tcalc2,psatA2,color=\"blue\", linewidth=1, label = 'Antoine')\n",
    "plt.plot(tcalc2,psatPR2,color=\"red\", linewidth=1, label = 'PR')\n",
    "plt.plot(texp2,pexp2,color=\"green\", marker = \"*\", linewidth=0)\n",
    "plt.xlabel('T(K)',fontsize=20)\n",
    "plt.ylabel('$P^{sat}$',fontsize=20)\n",
    "plt.title('$P^{sat}$ do Benzeno via Antoine e Peng - Robinson', fontsize = 14)\n",
    "plt.rcParams.update({'font.size':15})\n",
    "plt.legend()\n",
    "plt.grid(True, color='k', linestyle=':')\n",
    "plt.tight_layout()\n",
    "plt.savefig('Pressão Sat Benzeno.png',dpi=600)\n",
    "plt.show()"
   ]
  },
  {
   "cell_type": "code",
   "execution_count": null,
   "id": "5f655e67",
   "metadata": {
    "executionInfo": {
     "elapsed": 2,
     "status": "aborted",
     "timestamp": 1719337555652,
     "user": {
      "displayName": "Rogerio Navarro Correia de Siqueira rogerioncs",
      "userId": "06100431994335146469"
     },
     "user_tz": 180
    },
    "id": "5f655e67"
   },
   "outputs": [],
   "source": [
    "#Cálculo do desvio relativo absoluto médio\n",
    "nexp2=len(texp2)\n",
    "\n",
    "vpexp2=[float(x) for x in pexp2] #transformando lista em float\n",
    "\n",
    "erropsatA2  = np.zeros(nexp2)\n",
    "erropsatPR2 = np.zeros(nexp2)\n",
    "\n",
    "erromedioPR=0;\n",
    "erromedioA=0;\n",
    "\n",
    "for i in range(nexp2):\n",
    "    tcalc,psatA,psatPR = calcPressãoPRvsAn(texp2[i],vTcPcw2[0],vTcPcw2[1],vTcPcw2[2],Lambda2,paA2)\n",
    "    erropsatA2[i]=abs(vpexp2[i]-psatA)/vpexp2[i]\n",
    "    erropsatPR2[i]=abs(psatPR-vpexp2[i])/vpexp2[i]\n",
    "    erromedioPR=erromedioPR+erropsatPR2[i]\n",
    "    erromedioA=erromedioA+erropsatA2[i]\n",
    "\n",
    "erromedioPR=erromedioPR/nexp2\n",
    "erromedioA=erromedioA/nexp2\n",
    "\n",
    "print('erro medio Peng - Robinson (%)=',erromedioPR)\n",
    "print('erro medio Antoine (%)=',erromedioA)"
   ]
  },
  {
   "cell_type": "code",
   "execution_count": null,
   "id": "d19dbd38",
   "metadata": {
    "executionInfo": {
     "elapsed": 2,
     "status": "aborted",
     "timestamp": 1719337555652,
     "user": {
      "displayName": "Rogerio Navarro Correia de Siqueira rogerioncs",
      "userId": "06100431994335146469"
     },
     "user_tz": 180
    },
    "id": "d19dbd38"
   },
   "outputs": [],
   "source": [
    "#Comportamento em baixas temperaturas\n",
    "plt.figure(figsize=(8,6))\n",
    "plt.plot(tcalc2,psatA2,color=\"blue\", linewidth=1, label = 'Antoine')\n",
    "plt.plot(tcalc2,psatPR2,color=\"red\", linewidth=1, label = 'PR')\n",
    "plt.plot(texp2,pexp2,color=\"green\", marker = \"*\", linewidth=0)\n",
    "plt.xlabel('T(K)',fontsize=20)\n",
    "plt.ylabel('$P^{sat}$(Pa)',fontsize=20)\n",
    "plt.ylim([50000,190000])\n",
    "plt.xlim([330,400])\n",
    "plt.title('$P^{sat}$ do Benzeno via Antoine e Peng - Robinson', fontsize = 14)\n",
    "plt.rcParams.update({'font.size':15})\n",
    "plt.legend()\n",
    "plt.grid(True, color='k', linestyle=':')\n",
    "plt.tight_layout()\n",
    "plt.savefig('Pressão Sat Benzeno - T baixa.png',dpi=600)\n",
    "plt.show()"
   ]
  },
  {
   "cell_type": "code",
   "execution_count": null,
   "id": "4f700323",
   "metadata": {
    "executionInfo": {
     "elapsed": 2,
     "status": "aborted",
     "timestamp": 1719337555652,
     "user": {
      "displayName": "Rogerio Navarro Correia de Siqueira rogerioncs",
      "userId": "06100431994335146469"
     },
     "user_tz": 180
    },
    "id": "4f700323"
   },
   "outputs": [],
   "source": [
    "#Comportamento em temperaturas elevadas\n",
    "plt.figure(figsize=(8,6))\n",
    "plt.plot(tcalc2,psatA2,color=\"blue\", linewidth=1, label = 'Antoine')\n",
    "plt.plot(tcalc2,psatPR2,color=\"red\", linewidth=1, label = 'PR')\n",
    "plt.plot(texp2,pexp2,color=\"green\", marker = \"*\", linewidth=0)\n",
    "plt.xlabel('T(K)',fontsize=20)\n",
    "plt.ylabel('$P^{sat}$(Pa)',fontsize=20)\n",
    "plt.ylim([0,50000])\n",
    "plt.xlim([280,330])\n",
    "plt.title('$P^{sat}$ do Benzeno via Antoine e Peng-Robinson', fontsize = 14)\n",
    "plt.rcParams.update({'font.size':15})\n",
    "plt.legend()\n",
    "plt.grid(True, color='k', linestyle=':')\n",
    "plt.tight_layout()\n",
    "plt.savefig('Pressão Sat Benzeno - T alta.png',dpi=600)\n",
    "plt.show()"
   ]
  },
  {
   "cell_type": "markdown",
   "id": "c46386e8",
   "metadata": {
    "id": "c46386e8"
   },
   "source": [
    "### Modelagem de Psat do ciclo - hexano"
   ]
  },
  {
   "cell_type": "code",
   "execution_count": null,
   "id": "93671ede",
   "metadata": {
    "executionInfo": {
     "elapsed": 15253,
     "status": "aborted",
     "timestamp": 1719337555652,
     "user": {
      "displayName": "Rogerio Navarro Correia de Siqueira rogerioncs",
      "userId": "06100431994335146469"
     },
     "user_tz": 180
    },
    "id": "93671ede"
   },
   "outputs": [],
   "source": [
    "#Extraindo parâmetros das listas de dados para o ciclo-hexano\n",
    "pexp3 = StrAFloatList(PsatCicloHex[:,1])\n",
    "\n",
    "pexp3 = [x * 1000 for x in pexp3]\n",
    "\n",
    "texp3 = StrAFloatList(PsatCicloHex[:,0])\n",
    "\n",
    "nexp3 = len(texp3)\n",
    "\n",
    "tmin3 = float(PsatCicloHex[0][0])\n",
    "tmax3 = float(PsatCicloHex[nexp3-1][0])\n",
    "\n",
    "paA3  = StrAFloatList(Antoine[3][0:3])\n",
    "Lambda3 = StrAFloatList(Lambda[3][0:3])\n",
    "vTcPcw3 = StrAFloatList(vTcPcw[3][0:3])"
   ]
  },
  {
   "cell_type": "code",
   "execution_count": null,
   "id": "ca458d7a",
   "metadata": {
    "executionInfo": {
     "elapsed": 15249,
     "status": "aborted",
     "timestamp": 1719337555652,
     "user": {
      "displayName": "Rogerio Navarro Correia de Siqueira rogerioncs",
      "userId": "06100431994335146469"
     },
     "user_tz": 180
    },
    "id": "ca458d7a"
   },
   "outputs": [],
   "source": [
    "#Cálculo de Psat e plot para o ciclo-hexano\n",
    "n = 200\n",
    "tcalc3  = np.linspace(tmin3,tmax3,n)\n",
    "psatA3  = np.zeros(n)\n",
    "psatPR3 = np.zeros(n)\n",
    "for i in range(n):\n",
    "    tcalc3[i],psatA3[i],psatPR3[i] = calcPressãoPRvsAn(tcalc3[i],vTcPcw3[0],vTcPcw3[1],vTcPcw3[2],Lambda3,paA3)\n",
    "\n",
    "plt.figure(figsize=(8,6))\n",
    "plt.plot(tcalc3,psatA3,color=\"blue\", linewidth=1, label = 'Antoine')\n",
    "plt.plot(tcalc3,psatPR3,color=\"red\", linewidth=1, label = 'PR')\n",
    "plt.plot(texp3,pexp3,color=\"green\", marker = \"*\", linewidth=0)\n",
    "plt.xlabel('T(K)',fontsize=20)\n",
    "plt.ylabel('$P^{sat}$(Pa)',fontsize=20)\n",
    "plt.title('$P^{sat}$ do Ciclo-Hexano via Antoine e Peng - Robinson',fontsize =15)\n",
    "plt.rcParams.update({'font.size':15})\n",
    "plt.legend()\n",
    "plt.grid(True, color='k', linestyle=':')\n",
    "plt.tight_layout()\n",
    "plt.savefig('Psat Ciclo Hexano.png',dpi=600)\n",
    "plt.show()"
   ]
  },
  {
   "cell_type": "code",
   "execution_count": null,
   "id": "4b7371ae",
   "metadata": {
    "executionInfo": {
     "elapsed": 15246,
     "status": "aborted",
     "timestamp": 1719337555652,
     "user": {
      "displayName": "Rogerio Navarro Correia de Siqueira rogerioncs",
      "userId": "06100431994335146469"
     },
     "user_tz": 180
    },
    "id": "4b7371ae"
   },
   "outputs": [],
   "source": [
    "#cálculo dos erros relativos médios\n",
    "nexp3=len(texp3)\n",
    "\n",
    "vpexp3 = [float(x) for x in pexp3]\n",
    "\n",
    "erropsatA3  = np.zeros(nexp3)\n",
    "erropsatPR3 = np.zeros(nexp3)\n",
    "\n",
    "erromedioPR=0;\n",
    "erromedioA=0;\n",
    "\n",
    "for i in range(nexp3):\n",
    "    tcalc,psatA,psatPR = calcPressãoPRvsAn(texp3[i],vTcPcw3[0],vTcPcw3[1],vTcPcw3[2],Lambda3,paA3)\n",
    "    erropsatA3[i]=abs(vpexp3[i]-psatA)/vpexp3[i]\n",
    "    erropsatPR3[i]=abs(psatPR-vpexp3[i])/vpexp3[i]\n",
    "    erromedioPR=erromedioPR+erropsatPR3[i]\n",
    "    erromedioA=erromedioA+erropsatA3[i]\n",
    "\n",
    "erromedioPR=erromedioPR/nexp3\n",
    "erromedioA=erromedioA/nexp3\n",
    "\n",
    "print('erro medio Peng - Robinson (%)=',erromedioPR)\n",
    "print('erro medio Antoine (%)=',erromedioA)"
   ]
  },
  {
   "cell_type": "code",
   "execution_count": null,
   "id": "05cf2cbf",
   "metadata": {
    "executionInfo": {
     "elapsed": 15243,
     "status": "aborted",
     "timestamp": 1719337555652,
     "user": {
      "displayName": "Rogerio Navarro Correia de Siqueira rogerioncs",
      "userId": "06100431994335146469"
     },
     "user_tz": 180
    },
    "id": "05cf2cbf"
   },
   "outputs": [],
   "source": [
    "#Comportamento em baixas temperaturas\n",
    "plt.figure(figsize=(8,6))\n",
    "plt.plot(tcalc3,psatA3,color=\"blue\", linewidth=1, label = 'Antoine')\n",
    "plt.plot(tcalc3,psatPR3,color=\"red\", linewidth=1, label = 'PR')\n",
    "plt.plot(texp3,pexp3,color=\"green\", marker = \"*\", linewidth=0)\n",
    "plt.xlabel('t(K)',fontsize=20)\n",
    "plt.ylabel('$P^{sat}$(Pa)',fontsize=20)\n",
    "plt.ylim([0,0.22E6])\n",
    "plt.xlim([277,380])\n",
    "plt.title('$P^{sat}$ do Ciclo-Hexano via Antoine e Peng - Robinson', fontsize=15)\n",
    "plt.rcParams.update({'font.size':15})\n",
    "plt.legend()\n",
    "plt.grid(True, color='k', linestyle=':')\n",
    "plt.tight_layout()\n",
    "plt.savefig('Psat Ciclo Hexano.png',dpi=600)\n",
    "plt.show()"
   ]
  },
  {
   "cell_type": "code",
   "execution_count": null,
   "id": "1976a632",
   "metadata": {
    "executionInfo": {
     "elapsed": 15239,
     "status": "aborted",
     "timestamp": 1719337555653,
     "user": {
      "displayName": "Rogerio Navarro Correia de Siqueira rogerioncs",
      "userId": "06100431994335146469"
     },
     "user_tz": 180
    },
    "id": "1976a632"
   },
   "outputs": [],
   "source": [
    "#Comportamento em altas temperaturas\n",
    "plt.figure(figsize=(8,6))\n",
    "plt.plot(tcalc3,psatA3,color=\"blue\", linewidth=1, label = 'Antoine')\n",
    "plt.plot(tcalc3,psatPR3,color=\"red\", linewidth=1, label = 'PR')\n",
    "plt.plot(texp3,pexp3,color=\"green\", marker = \"*\", linewidth=0)\n",
    "plt.xlabel('t(K)',fontsize=20)\n",
    "plt.ylabel('psat(Pa)',fontsize=20)\n",
    "plt.ylim([0.5E6,4.2E6])\n",
    "plt.xlim([430,560])\n",
    "plt.xticks(fontsize=15)\n",
    "plt.yticks(fontsize=15)\n",
    "plt.title('$P^{sat}$ do Ciclo-Hexano via Antoine e Peng - Robinson',fontsize=15)\n",
    "plt.rcParams.update({'font.size':15})\n",
    "plt.legend()\n",
    "plt.grid(True, color='k', linestyle=':')\n",
    "plt.tight_layout()\n",
    "plt.savefig('Psat Ciclo Hexano.png',dpi=600)\n",
    "plt.show()"
   ]
  },
  {
   "cell_type": "markdown",
   "id": "4165dbc2",
   "metadata": {
    "executionInfo": {
     "elapsed": 15238,
     "status": "aborted",
     "timestamp": 1719337555653,
     "user": {
      "displayName": "Rogerio Navarro Correia de Siqueira rogerioncs",
      "userId": "06100431994335146469"
     },
     "user_tz": 180
    },
    "id": "d6180f24"
   },
   "source": [
    "### Modelagem de Psat para o Etanol"
   ]
  },
  {
   "cell_type": "code",
   "execution_count": null,
   "id": "163ba64f",
   "metadata": {},
   "outputs": [],
   "source": [
    "#Extraindo parâmetros das listas de dados para o etanol\n",
    "pexp4 = StrAFloatList(PsatEtanol[:,1])\n",
    "pexp4 = [x * 1000 for x in pexp4]\n",
    "\n",
    "texp4 = StrAFloatList(PsatEtanol[:,0])\n",
    "\n",
    "nexp4 = len(texp4)\n",
    "\n",
    "tmin4 = float(PsatEtanol[0][0])\n",
    "tmax4 = float(PsatEtanol[nexp4-1][0])\n",
    "\n",
    "paA4  = StrAFloatList(Antoine[4][0:3])\n",
    "Lambda4 = StrAFloatList(Lambda[4][0:3])\n",
    "vTcPcw4 = StrAFloatList(vTcPcw[4][0:3])"
   ]
  },
  {
   "cell_type": "code",
   "execution_count": null,
   "id": "319b4dc0",
   "metadata": {},
   "outputs": [],
   "source": [
    "# Cálculo e plot de Psat do Etanol\n",
    "n = 200\n",
    "tcalc4  = np.linspace(tmin4,tmax4,n)\n",
    "psatA4  = np.zeros(n)\n",
    "psatPR4 = np.zeros(n)\n",
    "for i in range(n):\n",
    "    tcalc4[i],psatA4[i],psatPR4[i] = calcPressãoPRvsAn(tcalc4[i],vTcPcw4[0],vTcPcw4[1],vTcPcw4[2],Lambda4,paA4)\n",
    "    \n",
    "plt.figure(figsize=(8,6))\n",
    "plt.plot(tcalc4,psatA4,color=\"blue\", linewidth=1, label = 'Antoine')\n",
    "plt.plot(tcalc4,psatPR4,color=\"red\", linewidth=1, label = 'PR')\n",
    "plt.plot(texp4,pexp4,color=\"green\", marker = \"*\", linewidth=0)\n",
    "plt.xlabel('T(K)',fontsize=20)\n",
    "plt.ylabel('$P^{sat}$(Pa)',fontsize=20)\n",
    "plt.title('$P^{sat}$ do etanol via Antoine e Peng - Robinson',fontsize=15)\n",
    "plt.legend()\n",
    "plt.grid(True, color='k', linestyle=':')\n",
    "plt.tight_layout()\n",
    "plt.savefig('Pressão Sat Etanol.png',dpi=600)\n",
    "plt.show()"
   ]
  },
  {
   "cell_type": "code",
   "execution_count": null,
   "id": "64b00498",
   "metadata": {},
   "outputs": [],
   "source": [
    "#Cálculo dos desvios relativos médios\n",
    "nexp4=len(texp4)\n",
    "\n",
    "vpexp4=[float(x) for x in pexp4] #criando um vetor numérico (string para float)\n",
    "\n",
    "erropsatA4  = np.zeros(nexp4)\n",
    "erropsatPR4 = np.zeros(nexp4)\n",
    "\n",
    "erromedioPR=0;\n",
    "erromedioA=0;\n",
    "\n",
    "for i in range(nexp4):\n",
    "    tcalc,psatA,psatPR = calcPressãoPRvsAn(texp4[i],vTcPcw4[0],vTcPcw4[1],vTcPcw4[2],Lambda4,paA4)\n",
    "    erropsatA4[i]=abs(vpexp4[i]-psatA)/vpexp4[i]\n",
    "    erropsatPR4[i]=abs(psatPR-vpexp4[i])/vpexp4[i]\n",
    "    erromedioPR=erromedioPR+erropsatPR4[i]\n",
    "    erromedioA=erromedioA+erropsatA4[i]\n",
    "\n",
    "erromedioPR=erromedioPR/nexp4\n",
    "erromedioA=erromedioA/nexp4\n",
    "\n",
    "print('erro medio Peng - Robinson (%)=',erromedioPR)\n",
    "print('erro medio Antoine (%)=',erromedioA)"
   ]
  },
  {
   "cell_type": "code",
   "execution_count": null,
   "id": "e4e6321b",
   "metadata": {},
   "outputs": [],
   "source": [
    "#Comportamento em temperaturas elevadas\n",
    "plt.figure(figsize=(8,6))\n",
    "plt.plot(tcalc4,psatA4,color=\"blue\", linewidth=1, label = 'Antoine')\n",
    "plt.plot(tcalc4,psatPR4,color=\"red\", linewidth=1, label = 'PR')\n",
    "plt.plot(texp4,pexp4,color=\"green\", marker = \"*\", linewidth=0)\n",
    "plt.xlabel('T(K)',fontsize=20)\n",
    "plt.ylabel('$P^{sat}$(Pa)',fontsize=20)\n",
    "plt.ylim([38000,110000])\n",
    "plt.xlim([330,353])\n",
    "plt.title('$P^{sat}$ do etanol via Antoine e Peng - Robinson', fontsize = 14)\n",
    "plt.rcParams.update({'font.size':15})\n",
    "plt.legend()\n",
    "plt.grid(True, color='k', linestyle=':')\n",
    "plt.tight_layout()\n",
    "plt.savefig('Pressão sat Etanol - T alta.png',dpi=600)\n",
    "plt.show()"
   ]
  },
  {
   "cell_type": "code",
   "execution_count": null,
   "id": "ac69cff9",
   "metadata": {},
   "outputs": [],
   "source": [
    "#Comportamento em baixas temperaturas\n",
    "plt.figure(figsize=(8,6))\n",
    "plt.plot(tcalc4,psatA4,color=\"blue\", linewidth=1, label = 'Antoine')\n",
    "plt.plot(tcalc4,psatPR4,color=\"red\", linewidth=1, label = 'PR')\n",
    "plt.plot(texp4,pexp4,color=\"green\", marker = \"*\", linewidth=0)\n",
    "plt.xlabel('T(K)',fontsize=20)\n",
    "plt.ylabel('$P^{sat}$(Pa)',fontsize=20)\n",
    "plt.ylim([0,38000])\n",
    "plt.xlim([270,330])\n",
    "plt.title('$P^{sat}$ do etanol via Antoine e Peng - Robinson', fontsize = 14)\n",
    "plt.rcParams.update({'font.size':15})\n",
    "plt.legend()\n",
    "plt.grid(True, color='k', linestyle=':')\n",
    "plt.tight_layout()\n",
    "plt.savefig('Pressão sat Etanol - T baixa.png',dpi=600)\n",
    "plt.show()"
   ]
  },
  {
   "cell_type": "code",
   "execution_count": null,
   "id": "a979d299",
   "metadata": {},
   "outputs": [],
   "source": [
    "#Cálculo de Psat em pressões ainda mais elevadas. Inserir dados de pressões mais elevadas e calcular\n",
    "#o diagrama P - T próximo do ponto crítico."
   ]
  },
  {
   "cell_type": "markdown",
   "id": "41e4ed09",
   "metadata": {},
   "source": [
    "### Modelagem de dados do dietil - éter"
   ]
  },
  {
   "cell_type": "code",
   "execution_count": null,
   "id": "16deccaf",
   "metadata": {},
   "outputs": [],
   "source": [
    "#Extraindo parâmetros das listas de dados para o dietil-éter\n",
    "pexp5 = StrAFloatList(PsatEterDiet[:,1])\n",
    "pexp5 = [x * 1000 for x in pexp5]\n",
    "\n",
    "texp5 = StrAFloatList(PsatEterDiet[:,0])\n",
    "\n",
    "nexp5 = len(texp5)\n",
    "\n",
    "tmin5 = float(PsatEterDiet[0][0])\n",
    "tmax5 = float(PsatEterDiet[nexp5-1][0])\n",
    "\n",
    "paA5  = StrAFloatList(Antoine[5][0:3])\n",
    "Lambda5 = StrAFloatList(Lambda[5][0:3])\n",
    "vTcPcw5 = StrAFloatList(vTcPcw[5][0:3])"
   ]
  },
  {
   "cell_type": "code",
   "execution_count": null,
   "id": "a3a28d88",
   "metadata": {},
   "outputs": [],
   "source": [
    "#Cálculo e Plot de Psat\n",
    "n = 200\n",
    "tcalc5  = np.linspace(tmin5,tmax5,n)\n",
    "psatA5  = np.zeros(n)\n",
    "psatPR5 = np.zeros(n)\n",
    "for i in range(n):\n",
    "    tcalc5[i],psatA5[i],psatPR5[i] = calcPressãoPRvsAn(tcalc5[i],vTcPcw5[0],vTcPcw5[1],vTcPcw5[2],Lambda5,paA5)\n",
    "    \n",
    "plt.figure(figsize=(8,6))\n",
    "plt.plot(tcalc5,psatA5,color=\"blue\", linewidth=1, label = 'Antoine')\n",
    "plt.plot(tcalc5,psatPR5,color=\"red\", linewidth=1, label = 'PR')\n",
    "plt.plot(texp5,pexp5,color=\"green\", marker = \"*\", linewidth=0)\n",
    "plt.xlabel('T(K)',fontsize=20)\n",
    "plt.ylabel('$P^{sat}$(Pa)',fontsize=20)\n",
    "plt.title('$P^{sat}$ do éter - dietílico via Antoine e Peng - Robinson', fontsize = 14)\n",
    "plt.rcParams.update({'font.size':15})\n",
    "plt.legend()\n",
    "plt.grid(True, color='k', linestyle=':')\n",
    "plt.tight_layout()\n",
    "plt.savefig('Pressão Sat Éter Dietílico.png',dpi=600)\n",
    "plt.show()"
   ]
  },
  {
   "cell_type": "code",
   "execution_count": null,
   "id": "7a5f4232",
   "metadata": {},
   "outputs": [],
   "source": [
    "#Cálculo dos erros relativos médios\n",
    "nexp5=len(texp5)\n",
    "\n",
    "vpexp5=[float(x) for x in pexp5] #criando um vetor numérico (string para float)\n",
    "\n",
    "\n",
    "erropsatA5  = np.zeros(nexp5)\n",
    "erropsatPR5 = np.zeros(nexp5)\n",
    "\n",
    "erromedioPR=0;\n",
    "erromedioA=0;\n",
    "\n",
    "for i in range(nexp5):\n",
    "    tcalc,psatA,psatPR = calcPressãoPRvsAn(texp5[i],vTcPcw5[0],vTcPcw5[1],vTcPcw5[2],Lambda5,paA5)\n",
    "    erropsatA5[i]=abs(vpexp5[i]-psatA)/vpexp5[i]\n",
    "    erropsatPR5[i]=abs(psatPR-vpexp5[i])/vpexp5[i]\n",
    "    erromedioPR=erromedioPR+erropsatPR5[i]\n",
    "    erromedioA=erromedioA+erropsatA5[i]\n",
    "\n",
    "erromedioPR=erromedioPR/nexp5\n",
    "erromedioA=erromedioA/nexp5\n",
    "\n",
    "print('erro medio Peng - Robinson (%)=',erromedioPR)\n",
    "print('erro medio Antoine (%)=',erromedioA)"
   ]
  },
  {
   "cell_type": "code",
   "execution_count": null,
   "id": "acaa7df8",
   "metadata": {},
   "outputs": [],
   "source": [
    "#Comportamento em temperaturas elevadas\n",
    "plt.figure(figsize=(8,6))\n",
    "plt.plot(tcalc5,psatA5,color=\"blue\", linewidth=1, label = 'Antoine')\n",
    "plt.plot(tcalc5,psatPR5,color=\"red\", linewidth=1, label = 'PR')\n",
    "plt.plot(texp5,pexp5,color=\"green\", marker = \"*\", linewidth=0)\n",
    "plt.xlim([350,460])\n",
    "plt.ylim([0.4E6,4E6])\n",
    "plt.xlabel('T(K)',fontsize=20)\n",
    "plt.ylabel('$P^{sat}$(Pa)',fontsize=20)\n",
    "plt.title('$P^{sat}$ do éter - dietílico via Antoine e Peng - Robinson', fontsize = 14)\n",
    "plt.rcParams.update({'font.size':15})\n",
    "plt.legend()\n",
    "plt.grid(True, color='k', linestyle=':')\n",
    "plt.tight_layout()\n",
    "plt.savefig('Pressão Sat Éter Dietílico - T elevada.png',dpi=600)\n",
    "plt.show()"
   ]
  },
  {
   "cell_type": "code",
   "execution_count": null,
   "id": "2934a643",
   "metadata": {},
   "outputs": [],
   "source": [
    "#Comportamento em baixas temperaturas\n",
    "plt.figure(figsize=(8,6))\n",
    "plt.plot(tcalc5,psatA5,color=\"blue\", linewidth=1, label = 'Antoine')\n",
    "plt.plot(tcalc5,psatPR5,color=\"red\", linewidth=1, label = 'PR')\n",
    "plt.plot(texp5,pexp5,color=\"green\", marker = \"*\", linewidth=0)\n",
    "plt.xlim([160,315])\n",
    "plt.ylim([0.0000005E6,125000])\n",
    "plt.xlabel('T(K)',fontsize=20)\n",
    "plt.ylabel('$P^{sat}$(Pa)',fontsize=20)\n",
    "plt.title('$P^{sat}$ do éter - dietílico via Antoine e Peng - Robinson', fontsize = 14)\n",
    "plt.rcParams.update({'font.size':15})\n",
    "plt.legend()\n",
    "plt.grid(True, color='k', linestyle=':')\n",
    "plt.tight_layout()\n",
    "plt.savefig('Pressão Sat Éter Dietílico - T baixa.png',dpi=600)\n",
    "plt.show()"
   ]
  },
  {
   "cell_type": "markdown",
   "id": "36d2fb98",
   "metadata": {},
   "source": [
    "### Modelagem de Psat para o metanol"
   ]
  },
  {
   "cell_type": "code",
   "execution_count": null,
   "id": "be382a49",
   "metadata": {},
   "outputs": [],
   "source": [
    "#Extraindo parâmetros das listas de dados para o metanol\n",
    "pexp6 = StrAFloatList(PsatMetanol[:,1])\n",
    "pexp6 = [x * 1000 for x in pexp6]\n",
    "\n",
    "texp6 = StrAFloatList(PsatMetanol[:,0])\n",
    "\n",
    "nexp6 = len(texp6)\n",
    "\n",
    "tmin6 = float(PsatMetanol[0][0])\n",
    "tmax6 = float(PsatMetanol[nexp6-1][0])\n",
    "\n",
    "paA6  = StrAFloatList(Antoine[6][0:3])\n",
    "Lambda6 = StrAFloatList(Lambda[6][0:3])\n",
    "vTcPcw6 = StrAFloatList(vTcPcw[6][0:3])"
   ]
  },
  {
   "cell_type": "code",
   "execution_count": null,
   "id": "f5f143a5",
   "metadata": {},
   "outputs": [],
   "source": [
    "#Cálculo e plot de Psat\n",
    "n = 200\n",
    "tcalc6  = np.linspace(tmin6,tmax6,n)\n",
    "psatA6  = np.zeros(n)\n",
    "psatPR6 = np.zeros(n)\n",
    "for i in range(n):\n",
    "    tcalc6[i],psatA6[i],psatPR6[i] = calcPressãoPRvsAn(tcalc6[i],vTcPcw6[0],vTcPcw6[1],vTcPcw6[2],Lambda6,paA6)\n",
    "    \n",
    "plt.figure(figsize=(8,6))\n",
    "plt.plot(tcalc6,psatA6,color=\"blue\", linewidth=1, label = 'Antoine')\n",
    "plt.plot(tcalc6,psatPR6,color=\"red\", linewidth=1, label = 'PR')\n",
    "plt.plot(texp6,pexp6,color=\"green\", marker = \"*\", linewidth=0)\n",
    "plt.xlabel('T(K)',fontsize=20)\n",
    "plt.ylabel('$P^{sat}$',fontsize=20)\n",
    "plt.title('$P^{sat}$ do metanol via Antoine e Peng - Robinson', fontsize = 14)\n",
    "plt.rcParams.update({'font.size':15})\n",
    "plt.legend()\n",
    "plt.grid(True, color='k', linestyle=':')\n",
    "plt.tight_layout()\n",
    "plt.savefig('Pressão Sat Metanol.png',dpi=600)\n",
    "plt.show()"
   ]
  },
  {
   "cell_type": "code",
   "execution_count": null,
   "id": "ad3844e2",
   "metadata": {},
   "outputs": [],
   "source": [
    "#Cálculo dos erros relativos médios\n",
    "nexp6=len(texp6)\n",
    "\n",
    "vpexp6=[float(x) for x in pexp6] #criando um vetor numérico (string para float)\n",
    "\n",
    "\n",
    "erropsatA6  = np.zeros(nexp6)\n",
    "erropsatPR6 = np.zeros(nexp6)\n",
    "\n",
    "erromedioPR=0;\n",
    "erromedioA=0;\n",
    "\n",
    "for i in range(nexp6):\n",
    "    tcalc,psatA,psatPR = calcPressãoPRvsAn(texp6[i],vTcPcw6[0],vTcPcw6[1],vTcPcw6[2],Lambda6,paA6)\n",
    "    erropsatA6[i]=abs(vpexp6[i]-psatA)/vpexp6[i]\n",
    "    erropsatPR6[i]=abs(psatPR-vpexp6[i])/vpexp6[i]\n",
    "    erromedioPR=erromedioPR+erropsatPR6[i]\n",
    "    erromedioA=erromedioA+erropsatA6[i]\n",
    "\n",
    "erromedioPR=erromedioPR/nexp6\n",
    "erromedioA=erromedioA/nexp6\n",
    "\n",
    "print('erro medio Peng - Robinson=',erromedioPR)\n",
    "print('erro medio Antoine=',erromedioA)"
   ]
  },
  {
   "cell_type": "code",
   "execution_count": null,
   "id": "4ca631bd",
   "metadata": {},
   "outputs": [],
   "source": [
    "#Comportamento em temperaturas baixas\n",
    "plt.figure(figsize=(8,6))\n",
    "plt.plot(tcalc6,psatA6,color=\"blue\", linewidth=1, label = 'Antoine')\n",
    "plt.plot(tcalc6,psatPR6,color=\"red\", linewidth=1, label = 'PR')\n",
    "plt.plot(texp6,pexp6,color=\"green\", marker = \"*\", linewidth=0)\n",
    "plt.xlim([150,280])\n",
    "plt.ylim([0,6100])\n",
    "plt.xlabel('T(K)',fontsize=20)\n",
    "plt.ylabel('$P^{sat}$(Pa)',fontsize=20)\n",
    "plt.title('$P^{sat}$ do metanol via Antoine e Peng - Robinson', fontsize = 14)\n",
    "plt.rcParams.update({'font.size':15})\n",
    "plt.legend()\n",
    "plt.grid(True, color='k', linestyle=':')\n",
    "plt.tight_layout()\n",
    "plt.savefig('Pressão Sat metanol - T baixa.png',dpi=600)\n",
    "plt.show()"
   ]
  },
  {
   "cell_type": "code",
   "execution_count": null,
   "id": "6130e5be",
   "metadata": {},
   "outputs": [],
   "source": [
    "#Comportamento em temperaturas medianas\n",
    "plt.figure(figsize=(8,6))\n",
    "plt.plot(tcalc6,psatA6,color=\"blue\", linewidth=1, label = 'Antoine')\n",
    "plt.plot(tcalc6,psatPR6,color=\"red\", linewidth=1, label = 'PR')\n",
    "plt.plot(texp6,pexp6,color=\"green\", marker = \"*\", linewidth=0)\n",
    "plt.xlim([275,300])\n",
    "plt.ylim([6100,21000])\n",
    "plt.xlabel('T(K)',fontsize=20)\n",
    "plt.ylabel('$P^{sat}$(Pa)',fontsize=20)\n",
    "plt.title('$P^{sat}$ do metanol via Antoine e Peng - Robinson', fontsize = 14)\n",
    "plt.rcParams.update({'font.size':15})\n",
    "plt.legend()\n",
    "plt.grid(True, color='k', linestyle=':')\n",
    "plt.tight_layout()\n",
    "plt.savefig('Pressão Sat Éter Dietílico - T baixa.png',dpi=600)\n",
    "plt.show()"
   ]
  },
  {
   "cell_type": "code",
   "execution_count": null,
   "id": "a3176add",
   "metadata": {},
   "outputs": [],
   "source": [
    "#Comportamento em temperaturas elevadas\n",
    "plt.figure(figsize=(8,6))\n",
    "plt.plot(tcalc6,psatA6,color=\"blue\", linewidth=1, label = 'Antoine')\n",
    "plt.plot(tcalc6,psatPR6,color=\"red\", linewidth=1, label = 'PR')\n",
    "plt.plot(texp6,pexp6,color=\"green\", marker = \"*\", linewidth=0)\n",
    "plt.xlim([310,335])\n",
    "plt.ylim([30000,101000])\n",
    "plt.xlabel('T(K)',fontsize=20)\n",
    "plt.ylabel('$P^{sat}$(Pa)',fontsize=20)\n",
    "plt.title('$P^{sat}$ do metanol via Antoine e Peng - Robinson', fontsize = 14)\n",
    "plt.rcParams.update({'font.size':15})\n",
    "plt.legend()\n",
    "plt.grid(True, color='k', linestyle=':')\n",
    "plt.tight_layout()\n",
    "plt.savefig('Pressão Sat metanol - T baixa.png',dpi=600)\n",
    "plt.show()"
   ]
  },
  {
   "cell_type": "code",
   "execution_count": null,
   "id": "79804661",
   "metadata": {},
   "outputs": [],
   "source": [
    "#Comportamento em baixas temperaturas - 2\n",
    "plt.figure(figsize=(8,6))\n",
    "plt.plot(tcalc6,psatA6,color=\"blue\", linewidth=1, label = 'Antoine')\n",
    "plt.plot(tcalc6,psatPR6,color=\"red\", linewidth=1, label = 'PR')\n",
    "plt.plot(texp6,pexp6,color=\"green\", marker = \"*\", linewidth=0)\n",
    "plt.xlim([174,180])\n",
    "plt.ylim([0,1.3])\n",
    "plt.xlabel('T(K)',fontsize=20)\n",
    "plt.ylabel('$P^{sat}$(Pa)',fontsize=20)\n",
    "plt.title('$P^{sat}$ do metanol via Antoine e Peng - Robinson', fontsize = 14)\n",
    "plt.rcParams.update({'font.size':15})\n",
    "plt.legend()\n",
    "plt.grid(True, color='k', linestyle=':')\n",
    "plt.tight_layout()\n",
    "plt.savefig('Pressão Sat metanol - T baixa.png',dpi=600)\n",
    "plt.show()"
   ]
  }
 ],
 "metadata": {
  "colab": {
   "provenance": []
  },
  "kernelspec": {
   "display_name": "Python 3 (ipykernel)",
   "language": "python",
   "name": "python3"
  },
  "language_info": {
   "codemirror_mode": {
    "name": "ipython",
    "version": 3
   },
   "file_extension": ".py",
   "mimetype": "text/x-python",
   "name": "python",
   "nbconvert_exporter": "python",
   "pygments_lexer": "ipython3",
   "version": "3.9.13"
  },
  "toc": {
   "base_numbering": 1,
   "nav_menu": {},
   "number_sections": true,
   "sideBar": true,
   "skip_h1_title": false,
   "title_cell": "Table of Contents",
   "title_sidebar": "Contents",
   "toc_cell": false,
   "toc_position": {},
   "toc_section_display": true,
   "toc_window_display": false
  },
  "varInspector": {
   "cols": {
    "lenName": 16,
    "lenType": 16,
    "lenVar": 40
   },
   "kernels_config": {
    "python": {
     "delete_cmd_postfix": "",
     "delete_cmd_prefix": "del ",
     "library": "var_list.py",
     "varRefreshCmd": "print(var_dic_list())"
    },
    "r": {
     "delete_cmd_postfix": ") ",
     "delete_cmd_prefix": "rm(",
     "library": "var_list.r",
     "varRefreshCmd": "cat(var_dic_list()) "
    }
   },
   "types_to_exclude": [
    "module",
    "function",
    "builtin_function_or_method",
    "instance",
    "_Feature"
   ],
   "window_display": false
  }
 },
 "nbformat": 4,
 "nbformat_minor": 5
}
